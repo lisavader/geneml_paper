{
 "cells": [
  {
   "cell_type": "code",
   "execution_count": null,
   "id": "a1e21d69",
   "metadata": {},
   "outputs": [],
   "source": [
    "import glob\n",
    "import json\n",
    "import matplotlib.pyplot as plt\n",
    "import pandas as pd\n",
    "import seaborn as sns\n",
    "\n",
    "from collections import defaultdict"
   ]
  },
  {
   "cell_type": "code",
   "execution_count": null,
   "id": "586932d9",
   "metadata": {},
   "outputs": [],
   "source": [
    "with open(\"accession_translator.json\", \"r\") as s:\n",
    "    accession_translator = json.load(s)"
   ]
  },
  {
   "cell_type": "code",
   "execution_count": null,
   "id": "3f1062f6",
   "metadata": {},
   "outputs": [],
   "source": [
    "sns.set_theme(style=\"whitegrid\")"
   ]
  },
  {
   "cell_type": "code",
   "execution_count": null,
   "id": "91267910",
   "metadata": {},
   "outputs": [],
   "source": [
    "datasets = {\n",
    "    \"augustus\": \"AUGUSTUS\",\n",
    "#    \"braker3_noprotdb\": \"BRAKER3 (no orthoDB)\",\n",
    "    \"braker3\": \"BRAKER3\",\n",
    "    \"helixer\": \"Helixer\",\n",
    "    \"GeneML800_c657g_ncbi_for_benchmarking_ep10\": \"geneML\",\n",
    "    \"reference\": \"Reference\",\n",
    "}"
   ]
  },
  {
   "cell_type": "code",
   "execution_count": null,
   "id": "962e06f5",
   "metadata": {},
   "outputs": [],
   "source": [
    "busco_stats = defaultdict(list)\n",
    "for file in glob.glob(\"/home/lisvad/mnt/nisin/geneml/outputs/*/busco2_*/*.json\"):\n",
    "    with open(file, 'r') as s:\n",
    "        data = json.load(s)\n",
    "        path_in = data[\"parameters\"][\"in\"]\n",
    "        accession = path_in.split('/')[6].replace(\".faa\",'')\n",
    "        dataset = path_in.split('/')[5]\n",
    "        busco_stats[\"accession\"].append(accession)\n",
    "        busco_stats[\"dataset\"].append(dataset)\n",
    "        busco_stats[\"completeness\"].append(data[\"results\"][\"Complete percentage\"])\n",
    "        busco_stats[\"fragmented\"].append(data[\"results\"][\"Fragmented percentage\"])\n",
    "        busco_stats[\"missing\"].append(data[\"results\"][\"Missing percentage\"])\n",
    "busco_df = pd.DataFrame(busco_stats)\n",
    "busco_df[\"dataset\"] = pd.Categorical(busco_df[\"dataset\"], categories=datasets.keys(), ordered=True)\n",
    "busco_df[\"dataset\"] = busco_df[\"dataset\"].map(datasets)\n",
    "busco_df[\"species\"] = busco_df[\"accession\"].map(accession_translator)\n",
    "busco_df[\"species\"] = pd.Categorical(busco_df[\"species\"], categories=accession_translator.values(), ordered=True)"
   ]
  },
  {
   "cell_type": "code",
   "execution_count": null,
   "id": "31d19a96",
   "metadata": {},
   "outputs": [],
   "source": [
    "tool_palette = {\n",
    "    \"Reference\" : \"#000000\",\n",
    "    \"AUGUSTUS\" : \"#5A749F\",\n",
    "    \"BRAKER3\" : \"#B53535\",\n",
    "    \"Helixer\" : \"#622870\",\n",
    "    \"geneML\" : \"#FFAA00\"\n",
    "}"
   ]
  },
  {
   "cell_type": "code",
   "execution_count": null,
   "id": "381a9928",
   "metadata": {},
   "outputs": [],
   "source": [
    "sns.pointplot(busco_df, y=\"species\", x=\"completeness\", hue=\"dataset\", linestyle=\"none\", palette=tool_palette)\n",
    "plt.xlabel(\"BUSCO completeness (%)\")\n",
    "plt.xlim(0,100)"
   ]
  },
  {
   "cell_type": "code",
   "execution_count": null,
   "id": "e220049e",
   "metadata": {},
   "outputs": [],
   "source": [
    "busco_df_long = busco_df.rename(columns={\"completeness\":\"complete\"}).melt(id_vars=[\"accession\",\"dataset\",\"species\"], value_vars=[\"complete\",\"missing\",\"fragmented\"],var_name=\"metric\",value_name=\"percentage\")"
   ]
  },
  {
   "cell_type": "code",
   "execution_count": null,
   "id": "a2a77949",
   "metadata": {},
   "outputs": [],
   "source": [
    "busco_palette = {\n",
    "    \"complete\": \"#63A4D3\",\n",
    "    \"fragmented\": \"#FF8F21\",\n",
    "    \"missing\": \"#E63127\",\n",
    "}"
   ]
  },
  {
   "cell_type": "code",
   "execution_count": null,
   "id": "05197810",
   "metadata": {},
   "outputs": [],
   "source": [
    "sns.boxplot(busco_df_long, x=\"percentage\", y=\"dataset\", hue=\"metric\", palette=busco_palette)\n",
    "plt.legend(title=\"BUSCO percentage\", bbox_to_anchor=(1.05,1), loc='upper left')"
   ]
  },
  {
   "cell_type": "code",
   "execution_count": null,
   "id": "f96de491",
   "metadata": {},
   "outputs": [],
   "source": [
    "data = busco_df_long[(busco_df_long[\"metric\"]!=\"complete\") & (busco_df_long[\"dataset\"]==\"geneML\")]\n",
    "sns.barplot(data, x=\"percentage\", y=\"species\", hue=\"metric\", palette=busco_palette)"
   ]
  }
 ],
 "metadata": {
  "kernelspec": {
   "display_name": "env",
   "language": "python",
   "name": "python3"
  },
  "language_info": {
   "codemirror_mode": {
    "name": "ipython",
    "version": 3
   },
   "file_extension": ".py",
   "mimetype": "text/x-python",
   "name": "python",
   "nbconvert_exporter": "python",
   "pygments_lexer": "ipython3",
   "version": "3.12.3"
  }
 },
 "nbformat": 4,
 "nbformat_minor": 5
}
