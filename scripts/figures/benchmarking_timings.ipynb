{
 "cells": [
  {
   "cell_type": "code",
   "execution_count": null,
   "id": "dd6c3200",
   "metadata": {},
   "outputs": [],
   "source": [
    "import json\n",
    "import matplotlib.pyplot as plt\n",
    "import matplotlib.ticker as mtick\n",
    "import numpy as np\n",
    "import pandas as pd\n",
    "import seaborn as sns\n",
    "\n",
    "from scipy.stats import linregress"
   ]
  },
  {
   "cell_type": "code",
   "execution_count": null,
   "id": "9460cda6",
   "metadata": {},
   "outputs": [],
   "source": [
    "with open(\"accession_translator.json\", \"r\") as s:\n",
    "    accession_translator = json.load(s)"
   ]
  },
  {
   "cell_type": "code",
   "execution_count": null,
   "id": "2146f21e",
   "metadata": {},
   "outputs": [],
   "source": [
    "sns.set_theme(style=\"whitegrid\")"
   ]
  },
  {
   "cell_type": "code",
   "execution_count": null,
   "id": "5d55e53a",
   "metadata": {},
   "outputs": [],
   "source": [
    "datasets = {\n",
    "    \"augustus\": \"AUGUSTUS\",\n",
    "#    \"braker3_noprotdb\": \"BRAKER3 (no orthoDB)\",\n",
    "    \"braker3\": \"BRAKER3\",\n",
    "    \"helixer\": \"Helixer\",\n",
    "    \"geneml\": \"geneML\",\n",
    "}"
   ]
  },
  {
   "cell_type": "code",
   "execution_count": null,
   "id": "90fbc8a4",
   "metadata": {},
   "outputs": [],
   "source": [
    "timings = pd.read_csv(\"/home/lisvad/mnt/nisin/geneml/timings.tsv\", delimiter='\\t')\n",
    "timings = timings.drop(columns=[\"braker3_noprotdb\"])\n",
    "timings[\"species\"] = timings[\"genome_id\"].map(accession_translator)\n",
    "timings = timings.melt(id_vars=[\"genome_id\", \"species\"],value_vars=[\"augustus\",\"braker3\",\"geneml\",\"helixer\"],var_name=\"tool\",value_name=\"time\")\n",
    "tool_order = timings.groupby(\"tool\")[\"time\"].mean().sort_values().index\n",
    "timings[\"tool\"] = pd.Categorical(timings[\"tool\"], categories=tool_order, ordered=True)\n",
    "timings[\"tool\"] = timings[\"tool\"].map(datasets)\n",
    "species_order = timings.groupby(\"species\")[\"time\"].mean().sort_values().index\n",
    "timings[\"species\"] = pd.Categorical(timings[\"species\"], categories=species_order, ordered=True)"
   ]
  },
  {
   "cell_type": "code",
   "execution_count": null,
   "id": "168ead9e",
   "metadata": {},
   "outputs": [],
   "source": [
    "timings.groupby([\"tool\"])[\"time\"].agg(['mean','std'])"
   ]
  },
  {
   "cell_type": "code",
   "execution_count": null,
   "id": "b4abb472",
   "metadata": {},
   "outputs": [],
   "source": [
    "tool_palette = {\n",
    "    \"AUGUSTUS\" : \"#5A749F\",\n",
    "#    \"BRAKER3 (no orthoDB)\" : \"#FF9898\",\n",
    "    \"BRAKER3\" : \"#B53535\",\n",
    "    \"Helixer\" : \"#622870\",\n",
    "    \"geneML\" : \"#FFAA00\",\n",
    "#    \"geneML repeat masked 100bp\": \"#5FC047\",\n",
    "#    \"geneML repeat masked 200bp\": \"#237010\",\n",
    "}"
   ]
  },
  {
   "cell_type": "code",
   "execution_count": null,
   "id": "bf7e4580",
   "metadata": {},
   "outputs": [],
   "source": [
    "timings[\"tool\"] = pd.Categorical(timings[\"tool\"], categories=datasets.values(), ordered=True)\n",
    "fig, ax = plt.subplots(figsize=(7,4))\n",
    "sns.swarmplot(timings, x=\"time\", y=\"tool\", hue=\"tool\", palette=tool_palette, log_scale=True, ax=ax, size=6)\n",
    "plt.xlabel(\"time (hours)\")\n",
    "ax.set_xlim(0.01,50)\n",
    "ax.xaxis.set_major_formatter(mtick.ScalarFormatter())"
   ]
  },
  {
   "cell_type": "code",
   "execution_count": null,
   "id": "0c6a3d99",
   "metadata": {},
   "outputs": [],
   "source": [
    "benchmarking_stats = pd.read_csv(\"/home/lisvad/mnt/nisin/geneml/benchmarking_stats.tsv\", sep=\"\\t\")\n",
    "size_mapping = dict(zip(benchmarking_stats[\"genome\"], benchmarking_stats[\"genome_size\"]))\n",
    "timings[\"genome_size\"] = timings[\"genome_id\"].map(size_mapping)"
   ]
  },
  {
   "cell_type": "code",
   "execution_count": null,
   "id": "acf6cac9",
   "metadata": {},
   "outputs": [],
   "source": [
    "ax = sns.scatterplot(\n",
    "    data=timings,\n",
    "    x=\"genome_size\",\n",
    "    y=\"time\",\n",
    "    hue=\"tool\",\n",
    "    palette=tool_palette\n",
    ")\n",
    "\n",
    "# Fit log–log regression per tool\n",
    "for tool, group in timings.groupby(\"tool\"):\n",
    "    x = group[\"genome_size\"]\n",
    "    y = group[\"time\"]\n",
    "\n",
    "    # Remove non-positive values (log undefined for <= 0)\n",
    "    mask = (x > 0) & (y > 0)\n",
    "    x = x[mask]\n",
    "    y = y[mask]\n",
    "\n",
    "    # Fit regression in log–log space\n",
    "    slope, intercept, r, p, stderr = linregress(np.log10(x), np.log10(y))\n",
    "\n",
    "    # Generate predicted line\n",
    "    x_line = np.linspace(x.min(), x.max(), 100)\n",
    "    y_line = 10**(intercept + slope * np.log10(x_line))\n",
    "\n",
    "    # Plot regression line\n",
    "    ax.plot(x_line, y_line, color=tool_palette[tool], lw=2, label=f\"{tool} fit (slope={slope:.2f})\")\n",
    "\n",
    "# Log–log axes\n",
    "ax.set_xscale(\"log\")\n",
    "ax.set_yscale(\"log\")\n",
    "\n",
    "# Axis limits and ticks\n",
    "ax.set_xlim(1e7, 1.8e8)\n",
    "ax.set_ylim(0.01, 60)\n",
    "ax.yaxis.set_major_formatter(mtick.ScalarFormatter())"
   ]
  }
 ],
 "metadata": {
  "kernelspec": {
   "display_name": "env",
   "language": "python",
   "name": "python3"
  },
  "language_info": {
   "codemirror_mode": {
    "name": "ipython",
    "version": 3
   },
   "file_extension": ".py",
   "mimetype": "text/x-python",
   "name": "python",
   "nbconvert_exporter": "python",
   "pygments_lexer": "ipython3",
   "version": "3.12.3"
  }
 },
 "nbformat": 4,
 "nbformat_minor": 5
}
