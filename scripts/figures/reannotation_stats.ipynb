{
 "cells": [
  {
   "cell_type": "code",
   "execution_count": null,
   "id": "a40ab9d0",
   "metadata": {},
   "outputs": [],
   "source": [
    "import numpy as np\n",
    "import pandas as pd\n",
    "import seaborn as sns\n",
    "import matplotlib.pyplot as plt\n",
    "from sklearn.linear_model import LinearRegression"
   ]
  },
  {
   "cell_type": "code",
   "execution_count": null,
   "id": "e1492024",
   "metadata": {},
   "outputs": [],
   "source": [
    "sns.set_theme(style=\"whitegrid\")"
   ]
  },
  {
   "cell_type": "code",
   "execution_count": null,
   "id": "4f12e734",
   "metadata": {},
   "outputs": [],
   "source": [
    "genome_stats = pd.read_csv(\"/home/lisvad/mnt/nisin/geneml/genome_stats.tsv\", sep=\"\\t\")\n",
    "genome_stats = genome_stats.drop(\"genes\", axis=1)\n",
    "genome_stats = genome_stats.rename(columns={\"protein_coding_genes\": \"original_annotation\", \"geneml_genes\": \"geneml\"})\n",
    "genome_stats = genome_stats.melt(id_vars=[\"genome\",\"genome_size\"], value_vars=[\"original_annotation\", \"geneml\"], var_name=\"dataset\", value_name=\"genes\")\n",
    "genome_stats"
   ]
  },
  {
   "cell_type": "code",
   "execution_count": null,
   "id": "a5e7580e",
   "metadata": {},
   "outputs": [],
   "source": [
    "colour_palette = {\n",
    "    \"original_annotation\" : \"#20558a\",\n",
    "    \"geneml\" : \"#FFAA00\"\n",
    "}"
   ]
  },
  {
   "cell_type": "code",
   "execution_count": null,
   "id": "f75cc368",
   "metadata": {},
   "outputs": [],
   "source": [
    "sns.swarmplot(genome_stats, x=\"genes\", y=\"dataset\", hue=\"dataset\", log_scale=True, size=2.5, palette=colour_palette)"
   ]
  },
  {
   "cell_type": "code",
   "execution_count": null,
   "id": "febf10f9",
   "metadata": {},
   "outputs": [],
   "source": [
    "sns.violinplot(genome_stats, x=\"genes\", hue=\"dataset\", log_scale=True, palette=colour_palette, split=True, inner=\"quart\", gap=0.05, saturation=1)"
   ]
  },
  {
   "cell_type": "code",
   "execution_count": null,
   "id": "9c17c71f",
   "metadata": {},
   "outputs": [],
   "source": [
    "def facet_scatter_with_reg(x, y, color=None, **kwargs):\n",
    "    ax = plt.gca()\n",
    "\n",
    "    # Convert to numpy\n",
    "    x = np.asarray(x, dtype=float)\n",
    "    y = np.asarray(y, dtype=float)\n",
    "\n",
    "    # Scatter\n",
    "    ax.scatter(x, y, color=color, alpha=0.5, **kwargs)\n",
    "\n",
    "    # Log–log scale\n",
    "    ax.set_xscale(\"log\")\n",
    "    ax.set_yscale(\"log\")\n",
    "\n",
    "    # Regression in log space\n",
    "    x_log = np.log10(x).reshape(-1, 1)\n",
    "    y_log = np.log10(y)\n",
    "\n",
    "    from sklearn.linear_model import LinearRegression\n",
    "    model = LinearRegression().fit(x_log, y_log)\n",
    "\n",
    "    # Predict regression line\n",
    "    x_range = np.linspace(x_log.min(), x_log.max(), 200).reshape(-1, 1)\n",
    "    y_pred = model.predict(x_range)\n",
    "\n",
    "    ax.plot(10**x_range.ravel(), 10**y_pred, color=color, lw=2)\n",
    "\n",
    "# FacetGrid with scatter + regression\n",
    "g = sns.FacetGrid(genome_stats, col=\"dataset\", hue=\"dataset\", palette=colour_palette, height=6, aspect=1)\n",
    "g.map(facet_scatter_with_reg, \"genome_size\", \"genes\")\n",
    "g.set_titles(\"dataset: {col_name}\", y=1.25)\n",
    "\n",
    "# Compute global bins\n",
    "x_bins = np.logspace(np.log10(genome_stats[\"genome_size\"].min()),\n",
    "                     np.log10(genome_stats[\"genome_size\"].max()), 20)\n",
    "y_bins = np.logspace(np.log10(genome_stats[\"genes\"].min()),\n",
    "                     np.log10(genome_stats[\"genes\"].max()), 20)\n",
    "\n",
    "# Add marginal histograms for each facet\n",
    "for (col_val, ax) in g.axes_dict.items():\n",
    "    sub = genome_stats[genome_stats[\"dataset\"] == col_val]\n",
    "    colour = colour_palette[col_val]\n",
    "\n",
    "    ax_x = ax.inset_axes([0, 1.05, 1, 0.2], transform=ax.transAxes)\n",
    "    ax_y = ax.inset_axes([1.05, 0, 0.2, 1], transform=ax.transAxes)\n",
    "\n",
    "    # Top histogram (same global bins for all facets)\n",
    "    ax_x.hist(sub[\"genome_size\"], bins=x_bins, color=colour)\n",
    "    ax_x.set_xscale(\"log\")\n",
    "    ax_x.set_xlim(ax.get_xlim())\n",
    "    ax_x.axis(\"off\")\n",
    "\n",
    "    # Right histogram (same global bins for all facets)\n",
    "    ax_y.hist(sub[\"genes\"], bins=y_bins, orientation=\"horizontal\", color=colour)\n",
    "    ax_y.set_yscale(\"log\")\n",
    "    ax_y.set_ylim(ax.get_ylim())\n",
    "    ax_y.axis(\"off\")\n",
    "\n",
    "plt.tight_layout()\n",
    "plt.show()"
   ]
  }
 ],
 "metadata": {
  "kernelspec": {
   "display_name": "env",
   "language": "python",
   "name": "python3"
  },
  "language_info": {
   "codemirror_mode": {
    "name": "ipython",
    "version": 3
   },
   "file_extension": ".py",
   "mimetype": "text/x-python",
   "name": "python",
   "nbconvert_exporter": "python",
   "pygments_lexer": "ipython3",
   "version": "3.12.3"
  }
 },
 "nbformat": 4,
 "nbformat_minor": 5
}
