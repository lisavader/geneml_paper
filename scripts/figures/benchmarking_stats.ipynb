{
 "cells": [
  {
   "cell_type": "code",
   "execution_count": null,
   "id": "5cb5a2b9",
   "metadata": {},
   "outputs": [],
   "source": [
    "import glob\n",
    "import json\n",
    "import matplotlib.pyplot as plt\n",
    "import pandas as pd\n",
    "import seaborn as sns\n",
    "\n",
    "from collections import defaultdict"
   ]
  },
  {
   "cell_type": "code",
   "execution_count": null,
   "id": "7652283b",
   "metadata": {},
   "outputs": [],
   "source": [
    "with open(\"accession_translator.json\", \"r\") as s:\n",
    "    accession_translator = json.load(s)"
   ]
  },
  {
   "cell_type": "code",
   "execution_count": null,
   "id": "3a464561",
   "metadata": {},
   "outputs": [],
   "source": [
    "sns.set_theme(style=\"whitegrid\")"
   ]
  },
  {
   "cell_type": "code",
   "execution_count": null,
   "id": "72de486b",
   "metadata": {},
   "outputs": [],
   "source": [
    "def parse_stats_file(stats_path):\n",
    "    results = defaultdict(list)\n",
    "    with open(stats_path, 'r') as stream:\n",
    "        for line in stream:\n",
    "            if line.startswith(\"#= Summary for dataset:\"):\n",
    "                datapath = line.split()[-1]\n",
    "            if \"level\" in line:\n",
    "                level, stats = line.split(\"level:\")\n",
    "                results[\"datapath\"].append(datapath)\n",
    "                results[\"level\"].append(level.strip())\n",
    "                results[\"sensitivity\"].append(float(stats.split()[0]))\n",
    "                results[\"precision\"].append(float(stats.split()[2]))\n",
    "    return pd.DataFrame.from_dict(results)"
   ]
  },
  {
   "cell_type": "code",
   "execution_count": null,
   "id": "4b79b1f1",
   "metadata": {},
   "outputs": [],
   "source": [
    "stats_paths = glob.glob(\"/home/lisvad/mnt/nisin/geneml/outputs/gffcompare_benchmarking/*/*.stats\")\n",
    "dfs = []\n",
    "for path in stats_paths:\n",
    "    accession = path.split('/')[-2]\n",
    "    stats_df = parse_stats_file(path)\n",
    "    stats_df[\"dataset\"] = stats_df[\"datapath\"].str.split('/').str[-2]\n",
    "    stats_df[\"species\"] = accession_translator[accession]\n",
    "    dfs.append(stats_df)\n",
    "all_stats = pd.concat(dfs)\n",
    "all_stats[\"species\"] = pd.Categorical(all_stats[\"species\"], accession_translator.values())\n",
    "all_stats = all_stats.sort_values(\"dataset\")\n",
    "all_stats[\"F1 score\"] = 2*all_stats[\"precision\"]*all_stats[\"sensitivity\"]/(all_stats[\"precision\"]+all_stats[\"sensitivity\"])"
   ]
  },
  {
   "cell_type": "code",
   "execution_count": null,
   "id": "53aa54e0",
   "metadata": {},
   "outputs": [],
   "source": [
    "datasets = {\n",
    "    \"augustus\": \"AUGUSTUS\",\n",
    "#    \"braker3_noprotdb\": \"BRAKER3 (no orthoDB)\",\n",
    "    \"braker3\": \"BRAKER3\",\n",
    "    \"helixer\": \"Helixer\",\n",
    "    \"GeneML800_c657g_ncbi_for_benchmarking_ep10\": \"geneML\",\n",
    "    #\"geneml_repeats100\": \"geneML repeat masked 100bp\",\n",
    "    #\"geneml_repeats200\": \"geneML repeat masked 200bp\",\n",
    "}"
   ]
  },
  {
   "cell_type": "code",
   "execution_count": null,
   "id": "c53adffa",
   "metadata": {},
   "outputs": [],
   "source": [
    "all_stats[\"dataset\"] = pd.Categorical(all_stats[\"dataset\"], categories=datasets.keys(), ordered=True)\n",
    "all_stats[\"dataset\"] = all_stats[\"dataset\"].map(datasets)"
   ]
  },
  {
   "cell_type": "code",
   "execution_count": null,
   "id": "91e1ce28",
   "metadata": {},
   "outputs": [],
   "source": [
    "levels = {\n",
    "    \"Base\": \"Base\",\n",
    "    \"Exon\": \"Exon\",\n",
    "    \"Locus\": \"Gene\",\n",
    "}"
   ]
  },
  {
   "cell_type": "code",
   "execution_count": null,
   "id": "96f889c5",
   "metadata": {},
   "outputs": [],
   "source": [
    "selected_stats = all_stats[all_stats[\"level\"].isin([\"Base\", \"Exon\", \"Locus\"])]\n",
    "selected_stats[\"level\"] = pd.Categorical(selected_stats[\"level\"], categories=levels.keys(), ordered=True)\n",
    "selected_stats[\"level\"] = selected_stats[\"level\"].map(levels)"
   ]
  },
  {
   "cell_type": "code",
   "execution_count": null,
   "id": "27adf364",
   "metadata": {},
   "outputs": [],
   "source": [
    "summary = selected_stats.groupby([\"level\",\"dataset\"])[[\"sensitivity\",\"precision\",\"F1 score\"]].agg(['mean','std'])\n",
    "\n",
    "collapsed = summary.copy()\n",
    "collapsed.columns = ['_'.join(col) for col in summary.columns]  # flatten columns\n",
    "\n",
    "for metric in [\"sensitivity\",\"precision\",\"F1 score\"]:\n",
    "    collapsed[metric] = (\n",
    "        collapsed[f'{metric}_mean'].round(1).astype(str)\n",
    "        + \" ± \" +\n",
    "        collapsed[f'{metric}_std'].round(1).astype(str)\n",
    "    )\n",
    "\n",
    "collapsed = collapsed[[\"sensitivity\",\"precision\",\"F1 score\"]]\n",
    "print(collapsed)"
   ]
  },
  {
   "cell_type": "code",
   "execution_count": null,
   "id": "e0380131",
   "metadata": {},
   "outputs": [],
   "source": [
    "tool_palette = {\n",
    "    \"AUGUSTUS\" : \"#5A749F\",\n",
    "#    \"BRAKER3 (no orthoDB)\" : \"#FF9898\",\n",
    "    \"BRAKER3\" : \"#B53535\",\n",
    "    \"Helixer\" : \"#622870\",\n",
    "    \"geneML\" : \"#FFAA00\",\n",
    "#    \"geneML repeat masked 100bp\": \"#5FC047\",\n",
    "#    \"geneML repeat masked 200bp\": \"#237010\",\n",
    "}"
   ]
  },
  {
   "cell_type": "code",
   "execution_count": null,
   "id": "baf531f5",
   "metadata": {},
   "outputs": [],
   "source": [
    "data = selected_stats.sort_values(\"dataset\").rename(columns={\"dataset\":\"Gene prediction tool\",\"level\":\"Level\"})\n",
    "plot = sns.relplot(data=data, x=\"precision\", y=\"sensitivity\", col=\"species\", col_wrap=3, height=3, hue=\"Gene prediction tool\", style=\"Level\", palette=tool_palette, s=100, hue_order=selected_stats[\"dataset\"].cat.categories)\n",
    "plot.set(xlim=(0, 100), ylim=(0, 100))\n",
    "plot.set_titles(\"{col_name}\", size=11)\n",
    "plot._legend.set_title(None)\n",
    "#plt.savefig(\"gffcompare_plot.svg\")"
   ]
  }
 ],
 "metadata": {
  "kernelspec": {
   "display_name": "env",
   "language": "python",
   "name": "python3"
  },
  "language_info": {
   "codemirror_mode": {
    "name": "ipython",
    "version": 3
   },
   "file_extension": ".py",
   "mimetype": "text/x-python",
   "name": "python",
   "nbconvert_exporter": "python",
   "pygments_lexer": "ipython3",
   "version": "3.12.3"
  }
 },
 "nbformat": 4,
 "nbformat_minor": 5
}
