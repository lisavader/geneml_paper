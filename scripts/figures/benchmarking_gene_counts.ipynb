{
 "cells": [
  {
   "cell_type": "code",
   "execution_count": null,
   "id": "e40e159b",
   "metadata": {},
   "outputs": [],
   "source": [
    "import json\n",
    "import matplotlib.lines as mlines\n",
    "import matplotlib.pyplot as plt\n",
    "import pandas as pd\n",
    "import seaborn as sns\n",
    "\n",
    "from collections import OrderedDict"
   ]
  },
  {
   "cell_type": "code",
   "execution_count": null,
   "id": "e6825a66",
   "metadata": {},
   "outputs": [],
   "source": [
    "with open(\"accession_translator.json\", \"r\") as s:\n",
    "    accession_translator = json.load(s)"
   ]
  },
  {
   "cell_type": "code",
   "execution_count": null,
   "id": "98fa3466",
   "metadata": {},
   "outputs": [],
   "source": [
    "sns.set_theme(style=\"whitegrid\")"
   ]
  },
  {
   "cell_type": "code",
   "execution_count": null,
   "id": "f4a35ab1",
   "metadata": {},
   "outputs": [],
   "source": [
    "datasets = {\n",
    "    \"augustus\": \"AUGUSTUS\",\n",
    "#    \"braker3_noprotdb\": \"BRAKER3 (no orthoDB)\",\n",
    "    \"braker3\": \"BRAKER3\",\n",
    "    \"helixer\": \"Helixer\",\n",
    "    \"geneml\": \"geneML\",\n",
    "}"
   ]
  },
  {
   "cell_type": "code",
   "execution_count": null,
   "id": "e3d7569b",
   "metadata": {},
   "outputs": [],
   "source": [
    "gene_counts = pd.read_csv(\"/home/lisvad/mnt/nisin/geneml/benchmarking_stats.tsv\", sep=\"\\t\")\n",
    "gene_counts = gene_counts.drop([\"genes\",\"braker3_noprotdb\"], axis=1)\n",
    "gene_counts = gene_counts.rename(columns={})\n",
    "gene_counts = gene_counts.melt(id_vars=[\"genome\",\"genome_size\",\"protein_coding_genes\"], var_name=\"tool\", value_name=\"genes\")\n",
    "gene_counts[\"tool\"] = pd.Categorical(gene_counts[\"tool\"], categories=datasets.keys(), ordered=True)\n",
    "gene_counts[\"tool\"] = gene_counts[\"tool\"].map(datasets)\n",
    "gene_counts[\"species\"] = gene_counts[\"genome\"].map(accession_translator)\n",
    "gene_counts[\"species\"] = pd.Categorical(gene_counts[\"species\"], categories=accession_translator.values(), ordered=True)"
   ]
  },
  {
   "cell_type": "code",
   "execution_count": null,
   "id": "f3048379",
   "metadata": {},
   "outputs": [],
   "source": [
    "tool_palette = {\n",
    "    \"AUGUSTUS\" : \"#5A749F\",\n",
    "#    \"BRAKER3 (no orthoDB)\" : \"#FF9898\",\n",
    "    \"BRAKER3\" : \"#B53535\",\n",
    "    \"Helixer\" : \"#622870\",\n",
    "    \"geneML\" : \"#FFAA00\",\n",
    "}"
   ]
  },
  {
   "cell_type": "code",
   "execution_count": null,
   "id": "af58c8a8",
   "metadata": {},
   "outputs": [],
   "source": [
    "fig, ax = plt.subplots(figsize=(10, 4))\n",
    "\n",
    "# Plot each tool manually\n",
    "for tool, sub in gene_counts.groupby(\"tool\"):\n",
    "    sns.swarmplot(\n",
    "        data=sub,\n",
    "        y=\"species\", x=\"genes\",\n",
    "        color=tool_palette[tool],\n",
    "        label=tool,\n",
    "        size=9,\n",
    "        ax=ax\n",
    "    )\n",
    "\n",
    "# Overlay reference marker\n",
    "sns.pointplot(\n",
    "    data=gene_counts,\n",
    "    y=\"species\", x=\"protein_coding_genes\",\n",
    "    linestyle=\"none\", marker=\"|\", color=\"black\",\n",
    "    markersize=12, linewidth=2,\n",
    "    ax=ax\n",
    ")\n",
    "\n",
    "# --- 🔧 Draw deviation lines (min–max including reference) ---\n",
    "species_order = ax.get_yticks()\n",
    "for i, species in enumerate(ax.get_yticklabels()):\n",
    "    sname = species.get_text()\n",
    "    sub = gene_counts[gene_counts[\"species\"] == sname]\n",
    "    if not sub.empty:\n",
    "        tool_vals = sub[\"genes\"]\n",
    "        ref_val = sub[\"protein_coding_genes\"].iloc[0]\n",
    "        x_min = min(tool_vals.min(), ref_val)\n",
    "        x_max = max(tool_vals.max(), ref_val)\n",
    "        y_val = species_order[i]\n",
    "        # horizontal line connecting min ↔ max (including reference)\n",
    "        ax.hlines(y=y_val, xmin=x_min, xmax=x_max, color=\"gray\", lw=2, zorder=1)\n",
    "\n",
    "# --- 🧹 Legend (deduplicated + reference) ---\n",
    "handles, labels = ax.get_legend_handles_labels()\n",
    "by_label = OrderedDict(zip(labels, handles))\n",
    "\n",
    "ref_handle = mlines.Line2D([], [], color=\"black\", marker=\"|\", linestyle=\"none\",\n",
    "                           markersize=10, label=\"Reference\")\n",
    "by_label[\"Reference\"] = ref_handle\n",
    "\n",
    "ax.legend(by_label.values(), by_label.keys(),\n",
    "          title=\"Tool\", bbox_to_anchor=(1.05, 1), loc=\"upper left\")\n",
    "\n",
    "plt.tight_layout()\n",
    "plt.show()"
   ]
  }
 ],
 "metadata": {
  "kernelspec": {
   "display_name": "env",
   "language": "python",
   "name": "python3"
  },
  "language_info": {
   "codemirror_mode": {
    "name": "ipython",
    "version": 3
   },
   "file_extension": ".py",
   "mimetype": "text/x-python",
   "name": "python",
   "nbconvert_exporter": "python",
   "pygments_lexer": "ipython3",
   "version": "3.12.3"
  }
 },
 "nbformat": 4,
 "nbformat_minor": 5
}
