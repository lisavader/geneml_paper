{
 "cells": [
  {
   "cell_type": "code",
   "execution_count": null,
   "id": "c67cff44",
   "metadata": {},
   "outputs": [],
   "source": [
    "import pandas as pd\n",
    "import seaborn as sns"
   ]
  },
  {
   "cell_type": "code",
   "execution_count": null,
   "id": "e302a022",
   "metadata": {},
   "outputs": [],
   "source": [
    "accession_translator = {\n",
    "    \"GCF_009017415.1\" : \"Aspergillus flavus\",\n",
    "    \"GCF_000143535.2\" : \"Botrytis cinerea\",\n",
    "    \"GCF_033473495.1\" : \"Cercospora beticola\",\n",
    "    \"GCF_000835755.1\" : \"Cryptococcus tetragattii\",\n",
    "    \"GCF_000240135.3\" : \"Fusarium graminearum\",\n",
    "    \"GCF_021901695.1\" : \"Puccinia striiformis\",\n",
    "    \"GCF_026210795.1\" : \"Rhizophagus irregularis\",\n",
    "    \"GCF_000146045.2\" : \"Saccharomyces cerevisiae\",\n",
    "    \"GCA_964035595.1\" : \"Somion occarium\",\n",
    "}"
   ]
  },
  {
   "cell_type": "code",
   "execution_count": null,
   "id": "e5aa0bd4",
   "metadata": {},
   "outputs": [],
   "source": [
    "def parse_repeats_tables(accession):\n",
    "    base_path = f\"/home/lisvad/mnt/nisin/geneml/benchmarking_dataset/{accession}\"\n",
    "    all_repeats = pd.read_csv(base_path+\"/repeats.tsv\", header=None)[0]\n",
    "    cds_repeats = pd.read_csv(base_path+\"/repeats_in_cdses.tsv\", delimiter='\\t', header=None)[3]\n",
    "    diff = all_repeats.value_counts().subtract(cds_repeats.value_counts(), fill_value=0).clip(lower=0).astype(int)\n",
    "    no_cds_repeats = diff.index.repeat(diff).to_list()\n",
    "    repeats_df = pd.concat([\n",
    "    pd.DataFrame({'length': cds_repeats, 'location': 'within gene'}),\n",
    "    pd.DataFrame({'length': no_cds_repeats, 'location': 'outside gene'})], ignore_index=True)\n",
    "    repeats_df[\"genome\"] = accession\n",
    "    repeats_df[\"species\"] = accession_translator[accession]\n",
    "    return repeats_df"
   ]
  },
  {
   "cell_type": "code",
   "execution_count": null,
   "id": "86f40411",
   "metadata": {},
   "outputs": [],
   "source": [
    "dfs = []\n",
    "for acc in accession_translator.keys():\n",
    "    df = parse_repeats_tables(acc)\n",
    "    dfs.append(df)\n",
    "data = pd.concat(dfs, ignore_index=True)\n",
    "data"
   ]
  },
  {
   "cell_type": "code",
   "execution_count": null,
   "id": "deb75264",
   "metadata": {},
   "outputs": [],
   "source": [
    "sns.displot(data, x=\"length\", col=\"species\", log_scale=True, col_wrap=3)"
   ]
  },
  {
   "cell_type": "code",
   "execution_count": null,
   "id": "20d6d9a9",
   "metadata": {},
   "outputs": [],
   "source": [
    "g = sns.displot(data, x=\"length\", hue=\"location\", col=\"species\", log_scale=True, col_wrap=3, kind=\"ecdf\")\n",
    "for ax in g.axes.flat:\n",
    "    ax.axvline(x=200)\n",
    "    ax.axvline(x=40)"
   ]
  }
 ],
 "metadata": {
  "kernelspec": {
   "display_name": "env",
   "language": "python",
   "name": "python3"
  },
  "language_info": {
   "codemirror_mode": {
    "name": "ipython",
    "version": 3
   },
   "file_extension": ".py",
   "mimetype": "text/x-python",
   "name": "python",
   "nbconvert_exporter": "python",
   "pygments_lexer": "ipython3",
   "version": "3.12.3"
  }
 },
 "nbformat": 4,
 "nbformat_minor": 5
}
